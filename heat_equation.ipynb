{
 "cells": [
  {
   "cell_type": "code",
   "execution_count": null,
   "metadata": {
    "vscode": {
     "languageId": "plaintext"
    }
   },
   "outputs": [],
   "source": [
    "import numpy as np\n",
    "import matplotlib.pyplot as plt\n",
    "from numba import jit, prange\n",
    "from PIL import Image\n",
    "from tqdm import tqdm"
   ]
  },
  {
   "cell_type": "code",
   "execution_count": null,
   "metadata": {
    "vscode": {
     "languageId": "plaintext"
    }
   },
   "outputs": [],
   "source": [
    "@jit(nopython=True, parallel=True)\n",
    "def step_heat(u, alpha, dt, dx, dy, nx, ny):\n",
    "    u_next = np.zeros_like(u)\n",
    "    coeff_x = alpha * dt / dx**2\n",
    "    coeff_y = alpha * dt / dy**2\n",
    "\n",
    "    for i in prange(1, ny - 1):\n",
    "        for j in range(1, nx - 1):\n",
    "            for k in range(3):  # RGB channels\n",
    "                u_next[i, j, k] = (\n",
    "                    u[i, j, k]\n",
    "                    + coeff_x * (u[i + 1, j, k] + u[i - 1, j, k] - 2 * u[i, j, k])\n",
    "                    + coeff_y * (u[i, j + 1, k] + u[i, j - 1, k] - 2 * u[i, j, k])\n",
    "                )\n",
    "    return np.clip(u_next, 0, 1)\n",
    "\n",
    "def solve_heat_equation(image_path, alpha, dt, dx, dy, T, save_interval=10):\n",
    "    image = Image.open(image_path).convert(\"RGB\")\n",
    "    u = np.array(image, dtype=np.float64) / 255.0\n",
    "    ny, nx, _ = u.shape\n",
    "    frames = int(T / dt)\n",
    "\n",
    "    for n in tqdm(range(frames)):\n",
    "        u = step_heat(u, alpha, dt, dx, dy, nx, ny)\n",
    "        \n",
    "        if n % save_interval == 0:\n",
    "            fig = plt.figure(figsize=(nx / dpi, ny / dpi), dpi=dpi)\n",
    "            ax = fig.add_axes([0, 0, 1, 1])\n",
    "            ax.imshow(u, aspect='auto')\n",
    "            ax.axis(\"off\")\n",
    "            plt.savefig(f\"images/frame-{int(n*dt):04d}.png\", dpi=dpi, bbox_inches='tight', pad_inches=0, transparent=True)\n",
    "            plt.close(fig)\n",
    "\n",
    "# Parameters\n",
    "dx = dy = 0.1\n",
    "dt = 0.1\n",
    "alpha = 0.02  # Thermal diffusivity\n",
    "T = 2000\n",
    "image_path = \"thebeatles.jpg\"\n",
    "dpi = 72\n",
    "\n",
    "# Solve the heat equation\n",
    "solve_heat_equation(image_path, alpha, dt, dx, dy, T)\n"
   ]
  }
 ],
 "metadata": {
  "language_info": {
   "name": "python"
  }
 },
 "nbformat": 4,
 "nbformat_minor": 2
}
