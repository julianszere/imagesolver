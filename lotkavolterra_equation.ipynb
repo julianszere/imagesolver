{
 "cells": [
  {
   "cell_type": "code",
   "execution_count": null,
   "metadata": {
    "vscode": {
     "languageId": "plaintext"
    }
   },
   "outputs": [],
   "source": [
    "import numpy as np\n",
    "import matplotlib.pyplot as plt\n",
    "from numba import jit, prange\n",
    "from PIL import Image\n",
    "from tqdm import tqdm"
   ]
  },
  {
   "cell_type": "code",
   "execution_count": null,
   "metadata": {
    "vscode": {
     "languageId": "plaintext"
    }
   },
   "outputs": [],
   "source": [
    "@jit(nopython=True, parallel=True)\n",
    "def step_prey_predator(u, D, r, alpha, f, q, dt, dx, dy, nx, ny):\n",
    "    u_next = np.zeros_like(u)\n",
    "    coeff_x = D * dt / dx**2\n",
    "    coeff_y = D * dt / dy**2\n",
    "    \n",
    "    for i in prange(1, ny - 1):\n",
    "        for j in range(1, nx - 1):\n",
    "            laplacian = (\n",
    "                (u[i + 1, j] + u[i - 1, j] - 2 * u[i, j]) / dx**2 +\n",
    "                (u[i, j + 1] + u[i, j - 1] - 2 * u[i, j]) / dy**2\n",
    "            )\n",
    "            \n",
    "            R, N, P = u[i, j]\n",
    "            \n",
    "            dRdt = r * R - alpha * N * R\n",
    "            dNdt = f * alpha * N * R - q * N\n",
    "            dPdt = D * laplacian[2]  # Only diffusion for P\n",
    "            \n",
    "            u_next[i, j, 0] = R + dt * (D * laplacian[0] + dRdt)\n",
    "            u_next[i, j, 1] = N + dt * (D * laplacian[1] + dNdt)\n",
    "            u_next[i, j, 2] = P + dt * dPdt  # Only diffusion for P\n",
    "    \n",
    "    return np.clip(u_next, 0, 1)\n",
    "\n",
    "def solve_prey_predator(image_path, D, r, alpha, f, q, dt, dx, dy, T, save_interval=10):\n",
    "    image = Image.open(image_path).convert(\"RGB\")\n",
    "    u = np.array(image, dtype=np.float64) / 255.0\n",
    "    ny, nx, _ = u.shape\n",
    "    frames = int(T / dt)\n",
    "    \n",
    "    # Adjust parameters for oscillatory behavior\n",
    "    r *= 1.2\n",
    "    alpha *= 0.8\n",
    "    f *= 1.1\n",
    "    q *= 0.9\n",
    "\n",
    "    for n in tqdm(range(frames)):\n",
    "        u = step_prey_predator(u, D, r, alpha, f, q, dt, dx, dy, nx, ny)\n",
    "        \n",
    "        if n % save_interval == 0:\n",
    "            fig = plt.figure(figsize=(nx / dpi, ny / dpi), dpi=dpi)\n",
    "            ax = fig.add_axes([0, 0, 1, 1])\n",
    "            ax.imshow(u, aspect='auto')\n",
    "            ax.axis(\"off\")\n",
    "            plt.savefig(f\"images/frame-{int(n*dt):04d}.png\", dpi=dpi, bbox_inches='tight', pad_inches=0, transparent=True)\n",
    "            plt.close(fig)\n",
    "\n",
    "# Parameters\n",
    "dx = dy = 0.1\n",
    "dt = 0.1\n",
    "D = 0.02  # Diffusion coefficient\n",
    "r = 0.1   # Growth rate of basal prey\n",
    "alpha = 0.02  # Attack rate of N on R\n",
    "f = 0.1  # Conversion efficiency of R to new N\n",
    "q = 0.02  # Decline rate of N in absence of prey\n",
    "T = 2000\n",
    "image_path = \"thebeatles.jpg\"\n",
    "dpi = 72\n",
    "\n",
    "solve_prey_predator(image_path, D, r, alpha, f, q, dt, dx, dy, T)\n"
   ]
  }
 ],
 "metadata": {
  "language_info": {
   "name": "python"
  }
 },
 "nbformat": 4,
 "nbformat_minor": 2
}
