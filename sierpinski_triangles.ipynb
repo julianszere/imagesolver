{
 "cells": [
  {
   "cell_type": "code",
   "execution_count": null,
   "metadata": {},
   "outputs": [],
   "source": [
    "import numpy as np\n",
    "import matplotlib.pyplot as plt\n",
    "import matplotlib.animation as animation\n",
    "from PIL import Image\n",
    "\n",
    "# Load the image\n",
    "img = Image.open(\"sierpinski-2.png\")\n",
    "\n",
    "# Constants\n",
    "WIDTH, HEIGHT = 1080, 1920  # 9:16 aspect ratio\n",
    "FPS = 60\n",
    "DURATION = 30  # seconds\n",
    "FRAME_COUNT = FPS * DURATION  # 1800 frames\n",
    "VIDEO_OUTPUT = \"sierpinski_animation.mp4\"\n",
    "\n",
    "# Generate factor values\n",
    "FACTOR_VALUES = np.linspace(0, 0.5, FRAME_COUNT)\n",
    "\n",
    "# Set up figure\n",
    "fig, ax = plt.subplots(figsize=(WIDTH / 100, HEIGHT / 100), dpi=100)\n",
    "fig.patch.set_facecolor(\"black\")\n",
    "ax.set_facecolor(\"black\")\n",
    "ax.set_xlim(-WIDTH / 2, WIDTH / 2)\n",
    "ax.set_ylim(-HEIGHT / 2, HEIGHT / 2)\n",
    "ax.axis(\"off\")\n",
    "\n",
    "def draw_image(ax, x, y, d, factor):\n",
    "    \"\"\" Recursively draws images at different positions. \"\"\"\n",
    "    if d > 4:\n",
    "        ax.imshow(img, extent=[x - d / 2, x + d / 2, y - d / 2, y + d / 2])\n",
    "\n",
    "        offset = factor * d  # No rounding\n",
    "        draw_image(ax, x + offset, y, d * factor, factor)\n",
    "        draw_image(ax, x - offset, y, d * factor, factor)\n",
    "        draw_image(ax, x, y + offset, d * factor, factor)\n",
    "\n",
    "def update(frame):\n",
    "    \"\"\" Update function for animation. \"\"\"\n",
    "    ax.clear()\n",
    "    ax.set_xlim(-WIDTH / 2, WIDTH / 2)\n",
    "    ax.set_ylim(-HEIGHT / 2, HEIGHT / 2)\n",
    "    ax.set_facecolor(\"black\")\n",
    "    ax.axis(\"off\")\n",
    "\n",
    "    factor = FACTOR_VALUES[frame]\n",
    "    draw_image(ax, 0, 0, WIDTH / 2, factor)\n",
    "    return ax,\n",
    "\n",
    "# Create animation\n",
    "ani = animation.FuncAnimation(fig, update, frames=FRAME_COUNT, interval=1000 / FPS, blit=False)\n",
    "\n",
    "# Save animation as MP4\n",
    "ani.save(VIDEO_OUTPUT, fps=FPS, extra_args=['-vcodec', 'libx264'])\n",
    "\n",
    "print(f\"Video saved as {VIDEO_OUTPUT} 🎥✅\")\n"
   ]
  }
 ],
 "metadata": {
  "kernelspec": {
   "display_name": "Python 3",
   "language": "python",
   "name": "python3"
  },
  "language_info": {
   "codemirror_mode": {
    "name": "ipython",
    "version": 3
   },
   "file_extension": ".py",
   "mimetype": "text/x-python",
   "name": "python",
   "nbconvert_exporter": "python",
   "pygments_lexer": "ipython3",
   "version": "3.11.7"
  }
 },
 "nbformat": 4,
 "nbformat_minor": 2
}
