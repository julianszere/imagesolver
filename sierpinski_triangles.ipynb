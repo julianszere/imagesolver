{
 "cells": [
  {
   "cell_type": "code",
   "execution_count": 6,
   "metadata": {},
   "outputs": [
    {
     "name": "stdout",
     "output_type": "stream",
     "text": [
      "Frames saved in 'images/' folder!\n"
     ]
    }
   ],
   "source": [
    "import numpy as np\n",
    "import matplotlib.pyplot as plt\n",
    "from PIL import Image\n",
    "import os\n",
    "\n",
    "# Load the image\n",
    "img = Image.open(\"Wacław_Sierpiński.jpeg\")  # Ensure the file exists\n",
    "\n",
    "# Constants\n",
    "WIDTH, HEIGHT = 1080, 1920\n",
    "FACTOR = 0\n",
    "V = 0.001\n",
    "FRAME_COUNT = 100  # Number of frames to save\n",
    "SAVE_DIR = \"images\"\n",
    "\n",
    "# Create the save directory if it doesn't exist\n",
    "os.makedirs(SAVE_DIR, exist_ok=True)\n",
    "\n",
    "def draw_image(ax, x, y, d, factor):\n",
    "    \"\"\" Recursively draws images at different positions. \"\"\"\n",
    "    if d > 4:\n",
    "        img_resized = img.resize((int(d), int(d)))\n",
    "        ax.imshow(img_resized, extent=[x - d / 2, x + d / 2, y - d / 2, y + d / 2])\n",
    "\n",
    "        draw_image(ax, x + factor * d, y, d * factor, factor)\n",
    "        draw_image(ax, x - factor * d, y, d * factor, factor)\n",
    "        draw_image(ax, x, y + factor * d, d * factor, factor)\n",
    "        # draw_image(ax, x, y - factor * d, d * factor, factor)\n",
    "\n",
    "# Generate and save frames\n",
    "for frame in range(FRAME_COUNT):\n",
    "    fig, ax = plt.subplots(figsize=(WIDTH / 100, HEIGHT / 100), dpi=100)\n",
    "\n",
    "    # Set figure and axis background to black\n",
    "    fig.patch.set_facecolor(\"black\")\n",
    "    ax.set_facecolor(\"black\")\n",
    "\n",
    "    # Set axis limits\n",
    "    ax.set_xlim(-WIDTH // 2, WIDTH // 2)\n",
    "    ax.set_ylim(-HEIGHT // 2, HEIGHT // 2)\n",
    "\n",
    "    # Remove axes\n",
    "    ax.axis(\"off\")\n",
    "\n",
    "    # Update factor\n",
    "    global FACTOR, V\n",
    "    if FACTOR > 0.51 or FACTOR < 0:\n",
    "        V *= -1\n",
    "    FACTOR += V\n",
    "\n",
    "    # Draw images\n",
    "    draw_image(ax, 0, 0, HEIGHT // 2, FACTOR)\n",
    "\n",
    "    # Save frame\n",
    "    save_path = os.path.join(SAVE_DIR, f\"frame_{frame:03d}.png\")\n",
    "    plt.savefig(save_path, bbox_inches=\"tight\", pad_inches=0, facecolor=\"black\")\n",
    "    plt.close(fig)\n",
    "\n",
    "print(\"Frames saved in 'images/' folder!\")\n"
   ]
  }
 ],
 "metadata": {
  "kernelspec": {
   "display_name": "Python 3",
   "language": "python",
   "name": "python3"
  },
  "language_info": {
   "codemirror_mode": {
    "name": "ipython",
    "version": 3
   },
   "file_extension": ".py",
   "mimetype": "text/x-python",
   "name": "python",
   "nbconvert_exporter": "python",
   "pygments_lexer": "ipython3",
   "version": "3.10.12"
  }
 },
 "nbformat": 4,
 "nbformat_minor": 2
}
